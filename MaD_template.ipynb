{
 "cells": [
  {
   "cell_type": "code",
   "execution_count": null,
   "metadata": {},
   "outputs": [],
   "source": [
    "from mad import MaD\n",
    "\n",
    "# Make instance\n",
    "mad = MaD.MaD()\n",
    "\n",
    "# Add map (specify resolution after path), then add components \n",
    "mad.add_map(map_file, resolution)\n",
    "\n",
    "# Add component and specify number of copies (VAT complex is hexameric)\n",
    "mad.add_subunit(component_file, n_copies=1)\n",
    "\n",
    "# Get solutions\n",
    "mad.run()\n",
    "\n",
    "# Build assembly\n",
    "mad.build_assembly()"
   ]
  }
 ],
 "metadata": {
  "kernelspec": {
   "display_name": "Python 3",
   "language": "python",
   "name": "python3"
  },
  "language_info": {
   "codemirror_mode": {
    "name": "ipython",
    "version": 3
   },
   "file_extension": ".py",
   "mimetype": "text/x-python",
   "name": "python",
   "nbconvert_exporter": "python",
   "pygments_lexer": "ipython3",
   "version": "3.8.3"
  }
 },
 "nbformat": 4,
 "nbformat_minor": 4
}
